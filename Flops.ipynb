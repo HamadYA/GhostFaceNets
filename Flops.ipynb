{
 "cells": [
  {
   "cell_type": "code",
   "execution_count": null,
   "metadata": {},
   "outputs": [],
   "source": [
    "# !pip install keras_cv_attention_models"
   ]
  },
  {
   "cell_type": "code",
   "execution_count": 1,
   "metadata": {},
   "outputs": [],
   "source": [
    "import GhostFaceNets, keras_cv_attention_models"
   ]
  },
  {
   "cell_type": "code",
   "execution_count": 2,
   "metadata": {},
   "outputs": [
    {
     "name": "stdout",
     "output_type": "stream",
     "text": [
      ">>>> Change BatchNormalization momentum and epsilon default value.\n",
      ">>>> Convert ReLU: stack4_se_relu --> stack4_se_prelu\n",
      ">>>> Convert ReLU: stack5_se_relu --> stack5_se_prelu\n",
      ">>>> Convert ReLU: stack10_se_relu --> stack10_se_prelu\n",
      ">>>> Convert ReLU: stack11_se_relu --> stack11_se_prelu\n",
      ">>>> Convert ReLU: stack12_se_relu --> stack12_se_prelu\n",
      ">>>> Convert ReLU: stack14_se_relu --> stack14_se_prelu\n",
      ">>>> Convert ReLU: stack16_se_relu --> stack16_se_prelu\n"
     ]
    }
   ],
   "source": [
    "basic_model = GhostFaceNets.buildin_models(\"ghostnetv2\", dropout=0, emb_shape=512, output_layer='GDC', bn_momentum=0.9, bn_epsilon=1e-5)\n",
    "basic_model = GhostFaceNets.add_l2_regularizer_2_model(basic_model, weight_decay=5e-4, apply_to_batch_normal=False)\n",
    "basic_model = GhostFaceNets.replace_ReLU_with_PReLU(basic_model)\n",
    "# basic_model.summary()"
   ]
  },
  {
   "cell_type": "code",
   "execution_count": 3,
   "metadata": {},
   "outputs": [
    {
     "name": "stdout",
     "output_type": "stream",
     "text": [
      "WARNING:tensorflow:From c:\\Python39\\lib\\site-packages\\tensorflow\\python\\ops\\nn_ops.py:5214: tensor_shape_from_node_def_name (from tensorflow.python.framework.graph_util_impl) is deprecated and will be removed in a future version.\n",
      "Instructions for updating:\n",
      "Use `tf.compat.v1.graph_util.tensor_shape_from_node_def_name`\n",
      ">>>> FLOPs: 272,105,108, GFLOPs: 0.2721G\n",
      "Total params: 6,880,288\n",
      "Trainable params: 6,795,720\n",
      "Non-trainable params: 84,568\n"
     ]
    },
    {
     "data": {
      "text/plain": [
       "{'Total params': 6880288,\n",
       " 'Trainable params': 6795720,\n",
       " 'Non-trainable params': 84568}"
      ]
     },
     "execution_count": 3,
     "metadata": {},
     "output_type": "execute_result"
    }
   ],
   "source": [
    "from keras_cv_attention_models import model_surgery\n",
    "model_surgery.get_flops(basic_model)\n",
    "model_surgery.print_model_params_count(basic_model)"
   ]
  }
 ],
 "metadata": {
  "kernelspec": {
   "display_name": "Python 3.9.12 64-bit",
   "language": "python",
   "name": "python3"
  },
  "language_info": {
   "codemirror_mode": {
    "name": "ipython",
    "version": 3
   },
   "file_extension": ".py",
   "mimetype": "text/x-python",
   "name": "python",
   "nbconvert_exporter": "python",
   "pygments_lexer": "ipython3",
   "version": "3.9.12"
  },
  "orig_nbformat": 4,
  "vscode": {
   "interpreter": {
    "hash": "81794d4967e6c3204c66dcd87b604927b115b27c00565d3d43f05ba2f3a2cb0d"
   }
  }
 },
 "nbformat": 4,
 "nbformat_minor": 2
}
